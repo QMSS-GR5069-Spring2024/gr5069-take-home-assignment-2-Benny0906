{
 "cells": [
  {
   "attachments": {},
   "cell_type": "markdown",
   "id": "d0da56ce",
   "metadata": {},
   "source": [
    "why is this an empty cell"
   ]
  },
  {
   "cell_type": "markdown",
   "id": "c5ab1e64",
   "metadata": {},
   "source": []
  }
 ],
 "metadata": {
  "language_info": {
   "name": "python"
  }
 },
 "nbformat": 4,
 "nbformat_minor": 5
}
